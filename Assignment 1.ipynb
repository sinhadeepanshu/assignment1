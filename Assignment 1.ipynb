{
 "cells": [
  {
   "cell_type": "markdown",
   "id": "c4a15c29-795c-4372-989f-1628604491db",
   "metadata": {},
   "source": [
    " 1. In the below elements which of them are values or an expression? eg:- values can be\n",
    "integer or string and expressions will be mathematical operators.\n",
    "*\n",
    "'hello'\n",
    "-87.8\n",
    "-\n",
    "/\n",
    "+\n",
    "6"
   ]
  },
  {
   "cell_type": "code",
   "execution_count": null,
   "id": "f755d695-d91d-42b7-8363-5627055149d5",
   "metadata": {},
   "outputs": [],
   "source": [
    "Element\tType :-\n",
    "*\tExpression\n",
    "'hello'\tValue\n",
    "-87.8\tValue\n",
    "-\tExpression\n",
    "/\tExpression\n",
    "+\tExpression\n",
    "6\tValue"
   ]
  },
  {
   "cell_type": "code",
   "execution_count": null,
   "id": "5acce896-bbeb-40be-8f18-7a510ad9da41",
   "metadata": {},
   "outputs": [],
   "source": [
    "2. What is the difference between string and variable?"
   ]
  },
  {
   "cell_type": "code",
   "execution_count": null,
   "id": "b35b0e4c-be00-4df9-8d90-e767a925df28",
   "metadata": {},
   "outputs": [],
   "source": [
    "String\n",
    "A string is a data value that represents text.\n",
    "\n",
    "It is enclosed in quotes (either ' ' or \" \").\n",
    "\n",
    "Variable\n",
    "A variable is a name that stores a value (which can be a string, number, list, etc.).\n",
    "\n",
    "Variables do not use quotes when defined."
   ]
  },
  {
   "cell_type": "code",
   "execution_count": null,
   "id": "f2f96b00-f09a-4dd8-b230-59f1e849743d",
   "metadata": {},
   "outputs": [],
   "source": [
    "3. Describe three different data types."
   ]
  },
  {
   "cell_type": "code",
   "execution_count": null,
   "id": "c03a34e0-bd91-4b70-92bc-51f4954f0aeb",
   "metadata": {},
   "outputs": [],
   "source": [
    "1. Integer (int)\n",
    "Represents whole numbers (positive or negative) without a decimal point.\n",
    "\n",
    "Example:\n",
    "age = 25\n",
    "\n",
    "2. Float (float)\n",
    "Represents decimal numbers or real numbers (with a fractional part).\n",
    "\n",
    "Example:\n",
    "price = 19\n",
    "\n",
    "3. String (str)\n",
    "Represents a sequence of characters (text), enclosed in quotes.\n",
    "\n",
    "Example:\n",
    "name = \"Alice\""
   ]
  },
  {
   "cell_type": "code",
   "execution_count": null,
   "id": "cb48f1af-1533-49b3-a7a8-17ecd4f50cca",
   "metadata": {},
   "outputs": [],
   "source": [
    "4. What is an expression made up of? What do all expressions do?"
   ]
  },
  {
   "cell_type": "code",
   "execution_count": null,
   "id": "c5d6850b-9a5a-4bdf-ae29-d69ac21367da",
   "metadata": {},
   "outputs": [],
   "source": [
    "An expression is made up of:-\n",
    "\n",
    "Values (like numbers or strings)\n",
    "\n",
    "Variables (like x, name, etc.)\n",
    "\n",
    "Operators (like +, -, *, /)\n",
    "\n",
    "Function calls (optional, like len(), abs(), etc.)\n",
    "\n",
    "All expressions evaluate to a value.\n",
    "\n",
    "That means when Python runs an expression, it calculates or produces a result."
   ]
  },
  {
   "cell_type": "code",
   "execution_count": null,
   "id": "604e55d7-fd4e-4a1a-83ad-4bd2d95d3e87",
   "metadata": {},
   "outputs": [],
   "source": [
    "5. This assignment statements, like spam = 10. What is the difference between an\n",
    "expression and a statement?"
   ]
  },
  {
   "cell_type": "code",
   "execution_count": null,
   "id": "d95bfbb7-f5dd-4359-a576-5553c51ca788",
   "metadata": {},
   "outputs": [],
   "source": [
    "                     Expression                                 Statement                              \n",
    "\n",
    " A piece of code that   produces a value   | A complete instruction that does something \n",
    "     To compute a value                    | To perform an action                       \n",
    "Yes  and it gives a value                  | Yes it runs code but may not return a value  \n",
    " `5 + 3`, `\"Hello\" + \"World\"`              | `spam = 10`, `print(\"Hi\")`, `if x > 5:`        \n"
   ]
  },
  {
   "cell_type": "code",
   "execution_count": null,
   "id": "b00a13cb-5920-444f-a607-78870ab71c0b",
   "metadata": {},
   "outputs": [],
   "source": [
    "6. After running the following code, what does the variable bacon contain?\n",
    "bacon = 22\n",
    "bacon + 1"
   ]
  },
  {
   "cell_type": "code",
   "execution_count": 14,
   "id": "7c3ec3a5-93c3-4e56-8d1d-7ddb5bcf3b92",
   "metadata": {},
   "outputs": [
    {
     "data": {
      "text/plain": [
       "23"
      ]
     },
     "execution_count": 14,
     "metadata": {},
     "output_type": "execute_result"
    }
   ],
   "source": [
    "bacon = 22\n",
    "bacon + 1"
   ]
  },
  {
   "cell_type": "code",
   "execution_count": 18,
   "id": "13fb156c-f752-4669-8893-ec2b3227bade",
   "metadata": {},
   "outputs": [],
   "source": [
    "bacon = bacon + 1"
   ]
  },
  {
   "cell_type": "code",
   "execution_count": null,
   "id": "e72076e3-4141-47e9-a67a-cc30c4732c98",
   "metadata": {},
   "outputs": [],
   "source": []
  },
  {
   "cell_type": "code",
   "execution_count": null,
   "id": "732329a8-0905-4b01-a56f-940b091ba306",
   "metadata": {},
   "outputs": [],
   "source": [
    "7. What should the values of the following two terms be?\n",
    "'spam' + 'spam spam' \n",
    "'spam' * 3"
   ]
  },
  {
   "cell_type": "code",
   "execution_count": null,
   "id": "28fd3697-97be-4a96-90de-03137711690c",
   "metadata": {},
   "outputs": [],
   "source": [
    "️1. 'spam' + 'spam spam'\n",
    "\n",
    "This is string concatenation.\n",
    "\n",
    "It joins the two strings together exactly as they are: \n",
    "\n",
    "'spam' + 'spam spam' → 'spamspam spam'\n",
    "\n",
    "2.'spam' * 3\n",
    "\n",
    "This is string repetition.\n",
    "\n",
    "It repeats 'spam' three times:\n",
    "\n",
    "'spam' * 3 → 'spamspamspam'"
   ]
  },
  {
   "cell_type": "code",
   "execution_count": null,
   "id": "5d25a9aa-f239-4def-9936-f3049136dcd1",
   "metadata": {},
   "outputs": [],
   "source": [
    "8. why is eggs a valid variable name while 100 is invalid ?"
   ]
  },
  {
   "cell_type": "code",
   "execution_count": null,
   "id": "f1a47441-a2ea-41ad-aef6-ed4651efbda5",
   "metadata": {},
   "outputs": [],
   "source": [
    "eggs is valid because:\n",
    "It starts with a letter.\n",
    "\n",
    "It contains only letters and (optionally) numbers or underscores.\n",
    "\n",
    "It's not a reserved keyword (like if, while, etc.).\n",
    "\n",
    "eggs = 12 "
   ]
  },
  {
   "cell_type": "code",
   "execution_count": null,
   "id": "424522cb-b984-4f31-9b4d-20726898e6fd",
   "metadata": {},
   "outputs": [],
   "source": [
    "9. what three functions can be used to get the integer floating point number or string version of a values?"
   ]
  },
  {
   "cell_type": "code",
   "execution_count": null,
   "id": "508ad876-84b3-4dc5-9ca0-f49daf1a6a21",
   "metadata": {},
   "outputs": [],
   "source": [
    "1. int() – Convert to integer\n",
    "Converts a value to an integer, if possible.\n",
    "python\n",
    "int(\"42\")       → 42\n",
    "int(3.9)        → 3 (truncates decimal part)\n",
    "\n",
    "2.float()  – Convert to floating-point number\n",
    "Converts a value to a float (decimal number).\n",
    "python\n",
    "float(\"3.14\")  → 3.14\n",
    "float(5)       → 5.0\n",
    "\n",
    "3. str() – Convert to string\n",
    "Converts a value to its string representation.\n",
    "str(123)       → \"123\"\n",
    "str(3.14)      → \"3.14\""
   ]
  },
  {
   "cell_type": "code",
   "execution_count": null,
   "id": "528fe015-a031-418e-a1d5-f549ff157ae9",
   "metadata": {},
   "outputs": [],
   "source": [
    "10. Why does this expression cause an error? How can you fix it?  'I have eaten' +99+ 'burritos.'"
   ]
  },
  {
   "cell_type": "code",
   "execution_count": null,
   "id": "37222ded-5ef3-4f4a-84ad-9a27fbb5af8d",
   "metadata": {},
   "outputs": [],
   "source": [
    "it causes an error:\n",
    "You're trying to add a string ('I have eaten') to an integer (99).\n",
    "TypeError: can only concatenate str (not \"int\") to str\n",
    "\n",
    "How to fix it:\n",
    "'I have eaten ' + str(99) + ' burritos.'\n",
    "\n",
    "    Output:-\n",
    "'I have eaten 99 burritos.'\n"
   ]
  }
 ],
 "metadata": {
  "kernelspec": {
   "display_name": "Python 3 (ipykernel)",
   "language": "python",
   "name": "python3"
  },
  "language_info": {
   "codemirror_mode": {
    "name": "ipython",
    "version": 3
   },
   "file_extension": ".py",
   "mimetype": "text/x-python",
   "name": "python",
   "nbconvert_exporter": "python",
   "pygments_lexer": "ipython3",
   "version": "3.13.5"
  }
 },
 "nbformat": 4,
 "nbformat_minor": 5
}
